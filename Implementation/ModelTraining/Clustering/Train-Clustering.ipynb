{
 "cells": [
  {
   "cell_type": "code",
   "execution_count": null,
   "metadata": {
    "colab": {
     "base_uri": "https://localhost:8080/"
    },
    "executionInfo": {
     "elapsed": 74022,
     "status": "ok",
     "timestamp": 1748272553943,
     "user": {
      "displayName": "YONGHAO XU",
      "userId": "05923948742615568131"
     },
     "user_tz": -600
    },
    "id": "39GgtcsIu9cm",
    "outputId": "bc16ae96-ef62-4a3b-f9c8-1534b5e03481"
   },
   "outputs": [
    {
     "name": "stdout",
     "output_type": "stream",
     "text": [
      "✔ Training complete. Files saved.\n"
     ]
    }
   ],
   "source": [
    "import pandas as pd\n",
    "import numpy as np\n",
    "from sklearn.cluster import KMeans\n",
    "from sklearn.preprocessing import MinMaxScaler\n",
    "from sklearn.metrics import silhouette_score\n",
    "import joblib\n",
    "import os\n",
    "\n",
    "# Load raw unscaled data\n",
    "df = pd.read_csv(\"C:/Swinburne/2025Sem1/COS40007-Artificial Intelligence for Engineering/Group Assignment/5G Zone Prediction System/ProcessedData/clean_data_clst.csv\")\n",
    "\n",
    "# Select features\n",
    "feature_cols = ['latitude', 'longitude', 'average_latency', 'total_throughput', 'total_bandwidth']\n",
    "X_raw = df[feature_cols].copy()\n",
    "\n",
    "# Apply MinMaxScaler\n",
    "scaler = MinMaxScaler()\n",
    "X_scaled = scaler.fit_transform(X_raw)\n",
    "\n",
    "# Determine Best K with silhouette score\n",
    "best_k = 2\n",
    "best_score = -1\n",
    "samples_per_cluster = 3000\n",
    "\n",
    "for k in range(3, 11):\n",
    "    kmeans_tmp = KMeans(n_clusters=k, random_state=42, n_init='auto')\n",
    "    labels_tmp = kmeans_tmp.fit_predict(X_scaled)\n",
    "    sampled_indices = []\n",
    "\n",
    "    for cluster_id in np.unique(labels_tmp):\n",
    "        cluster_rows = np.where(labels_tmp == cluster_id)[0]\n",
    "        chosen = np.random.choice(cluster_rows, size=min(samples_per_cluster, len(cluster_rows)), replace=False)\n",
    "        sampled_indices.extend(chosen)\n",
    "\n",
    "    X_sample = X_scaled[sampled_indices]\n",
    "    labels_sample = labels_tmp[sampled_indices]\n",
    "    score = silhouette_score(X_sample, labels_sample)\n",
    "\n",
    "    if score > best_score:\n",
    "        best_k = k\n",
    "        best_score = score\n",
    "\n",
    "# Train final KMeans with best_k\n",
    "kmeans = KMeans(n_clusters=best_k, random_state=42, n_init='auto')\n",
    "df['cluster'] = kmeans.fit_predict(X_scaled)\n",
    "\n",
    "# Create Cluster Summary\n",
    "cluster_summary = df.groupby('cluster')[['average_latency', 'total_throughput']].mean()\n",
    "cluster_summary['score'] = cluster_summary['total_throughput'] / cluster_summary['average_latency']\n",
    "ranking_map = cluster_summary['score'].rank(ascending=False).astype(int) - 1\n",
    "label_map = {0: 'High Performance', 1: 'Moderate', 2: 'Low Performance'}\n",
    "cluster_summary['quality_rank'] = ranking_map\n",
    "cluster_summary['performance_label'] = ranking_map.map(label_map)\n",
    "\n",
    "# Merge performance labels back\n",
    "df = df.merge(cluster_summary[['performance_label']], left_on='cluster', right_index=True)\n",
    "\n",
    "# Save files\n",
    "output_dir = \"C:/Swinburne/2025Sem1/COS40007-Artificial Intelligence for Engineering/Group Assignment/5G Zone Prediction System/TrainedModel/Clustering/\"\n",
    "os.makedirs(output_dir, exist_ok=True)\n",
    "\n",
    "df.to_csv(f\"{output_dir}clustered_output.csv\", index=False)\n",
    "joblib.dump({'scaler': scaler, 'features': feature_cols}, f\"{output_dir}cluster_label_scaler.pkl\")\n",
    "joblib.dump({'kmeans': kmeans, 'features': feature_cols}, f\"{output_dir}cluster_label_kmeans.pkl\")\n",
    "\n",
    "zone_map = df.drop_duplicates(subset=['latitude', 'longitude'])[['latitude', 'longitude', 'cluster', 'performance_label']]\n",
    "zone_map.to_csv(f\"{output_dir}zone_cluster_map.csv\", index=False)\n",
    "\n",
    "print(\"✔ Training complete. Files saved.\")\n"
   ]
  }
 ],
 "metadata": {
  "accelerator": "GPU",
  "colab": {
   "authorship_tag": "ABX9TyPDs0naDZTo+br1/qsSq6Q+",
   "gpuType": "T4",
   "provenance": []
  },
  "kernelspec": {
   "display_name": "GroupAssigment",
   "language": "python",
   "name": "python3"
  },
  "language_info": {
   "codemirror_mode": {
    "name": "ipython",
    "version": 3
   },
   "file_extension": ".py",
   "mimetype": "text/x-python",
   "name": "python",
   "nbconvert_exporter": "python",
   "pygments_lexer": "ipython3",
   "version": "3.12.9"
  }
 },
 "nbformat": 4,
 "nbformat_minor": 0
}
